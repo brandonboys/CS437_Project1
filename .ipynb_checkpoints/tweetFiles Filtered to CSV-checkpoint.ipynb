{
 "cells": [
  {
   "cell_type": "code",
   "execution_count": 17,
   "id": "37f38193",
   "metadata": {},
   "outputs": [],
   "source": [
    "import pandas as pd\n",
    "from nltk.corpus import stopwords\n",
    "from nltk.tokenize import RegexpTokenizer\n",
    "from nltk.stem import PorterStemmer\n",
    "import numpy as np\n",
    "import enchant\n",
    "import regex as re\n",
    "d = enchant.Dict(\"en_US\")"
   ]
  },
  {
   "cell_type": "code",
   "execution_count": 11,
   "id": "887643a8",
   "metadata": {},
   "outputs": [],
   "source": [
    "ps = PorterStemmer()\n",
    "tokenizer = RegexpTokenizer(r'\\w+')\n",
    "stop_words = set(stopwords.words('english'))\n",
    "\n",
    "def tokenizerWithFilter(newText):\n",
    "    \"\"\"\n",
    "    This Function will tokenize and apply filters to an entire sentance... \n",
    "    return a list of words\n",
    "    \"\"\"\n",
    "    ## split words and remove punctuation\n",
    "    tokens = tokenizer.tokenize(newText)\n",
    "    \n",
    "    filtered_sentence = []\n",
    "    for w in tokens:\n",
    "        \n",
    "        ## remove stop words\n",
    "        if w not in stop_words:\n",
    "\n",
    "            #to Lowercase\n",
    "            w = w.lower()\n",
    "\n",
    "            ##lemantize\n",
    "            w = ps.stem(w)\n",
    "            filtered_sentence.append(w)\n",
    "    return filtered_sentence\n",
    "    "
   ]
  },
  {
   "cell_type": "code",
   "execution_count": 3,
   "id": "1d84790a",
   "metadata": {},
   "outputs": [],
   "source": [
    "textFile = open(\"tweetsFile.txt\")\n",
    "textFile = textFile.readlines()\n",
    "df = pd.DataFrame(columns=['ID','Text']).set_index('ID')"
   ]
  },
  {
   "cell_type": "code",
   "execution_count": 4,
   "id": "b40da095",
   "metadata": {},
   "outputs": [
    {
     "data": {
      "text/html": [
       "<div>\n",
       "<style scoped>\n",
       "    .dataframe tbody tr th:only-of-type {\n",
       "        vertical-align: middle;\n",
       "    }\n",
       "\n",
       "    .dataframe tbody tr th {\n",
       "        vertical-align: top;\n",
       "    }\n",
       "\n",
       "    .dataframe thead th {\n",
       "        text-align: right;\n",
       "    }\n",
       "</style>\n",
       "<table border=\"1\" class=\"dataframe\">\n",
       "  <thead>\n",
       "    <tr style=\"text-align: right;\">\n",
       "      <th></th>\n",
       "      <th>Text</th>\n",
       "    </tr>\n",
       "    <tr>\n",
       "      <th>ID</th>\n",
       "      <th></th>\n",
       "    </tr>\n",
       "  </thead>\n",
       "  <tbody>\n",
       "  </tbody>\n",
       "</table>\n",
       "</div>"
      ],
      "text/plain": [
       "Empty DataFrame\n",
       "Columns: [Text]\n",
       "Index: []"
      ]
     },
     "execution_count": 4,
     "metadata": {},
     "output_type": "execute_result"
    }
   ],
   "source": [
    "df"
   ]
  },
  {
   "cell_type": "code",
   "execution_count": 21,
   "id": "c3416f5a",
   "metadata": {},
   "outputs": [
    {
     "name": "stdout",
     "output_type": "stream",
     "text": [
      "id,date,text\n",
      "\n",
      "1323052849874542594,2020-11-01 16:02:48,@YourFavHasAPD \"I get called.... trump supporter\" white woman tears will never not be funny like if the worst thing anyones called u is a trump supporter and you're whining about it fuck off literally these people are 2 steps away from saying reverse racism is real\n",
      "\n",
      "\"I get called.... trump supporter\" white woman tears will never not be funny like if the worst thing anyones called u is a trump supporter and you're whining about it fuck off literally these people are 2 steps away from saying reverse racism is\n",
      "1323052852810493952,2020-11-01 16:02:50,RT @realDonaldTrump: Joe Biden is the candidate of rioters\",\" looters\",\" arsonists\",\" gun-grabbers\",\" flag-burners\",\" Marxists\",\" lobbyists\",\" and specia\n",
      "\n"
     ]
    },
    {
     "ename": "NameError",
     "evalue": "name 'strip' is not defined",
     "output_type": "error",
     "traceback": [
      "\u001b[1;31m---------------------------------------------------------------------------\u001b[0m",
      "\u001b[1;31mNameError\u001b[0m                                 Traceback (most recent call last)",
      "\u001b[1;32m<ipython-input-21-1d014091e74c>\u001b[0m in \u001b[0;36m<module>\u001b[1;34m\u001b[0m\n\u001b[0;32m      8\u001b[0m     \u001b[0mtext\u001b[0m \u001b[1;33m=\u001b[0m \u001b[0mt\u001b[0m\u001b[1;33m[\u001b[0m\u001b[1;36m40\u001b[0m\u001b[1;33m:\u001b[0m\u001b[1;33m(\u001b[0m\u001b[0mt\u001b[0m\u001b[1;33m.\u001b[0m\u001b[0mrfind\u001b[0m\u001b[1;33m(\u001b[0m\u001b[1;34m' '\u001b[0m\u001b[1;33m)\u001b[0m\u001b[1;33m)\u001b[0m\u001b[1;33m]\u001b[0m\u001b[1;33m\u001b[0m\u001b[1;33m\u001b[0m\u001b[0m\n\u001b[0;32m      9\u001b[0m     \u001b[1;32mif\u001b[0m \u001b[0mtext\u001b[0m\u001b[1;33m[\u001b[0m\u001b[1;36m0\u001b[0m\u001b[1;33m:\u001b[0m\u001b[1;36m2\u001b[0m\u001b[1;33m]\u001b[0m \u001b[1;33m==\u001b[0m \u001b[1;34m'RT'\u001b[0m\u001b[1;33m:\u001b[0m\u001b[1;33m\u001b[0m\u001b[1;33m\u001b[0m\u001b[0m\n\u001b[1;32m---> 10\u001b[1;33m         \u001b[0mtext\u001b[0m \u001b[1;33m=\u001b[0m \u001b[0mstrip\u001b[0m\u001b[1;33m(\u001b[0m\u001b[0mtext\u001b[0m\u001b[1;33m[\u001b[0m\u001b[1;36m2\u001b[0m\u001b[1;33m:\u001b[0m\u001b[1;33m]\u001b[0m\u001b[1;33m)\u001b[0m\u001b[1;33m\u001b[0m\u001b[1;33m\u001b[0m\u001b[0m\n\u001b[0m\u001b[0;32m     11\u001b[0m \u001b[1;33m\u001b[0m\u001b[0m\n\u001b[0;32m     12\u001b[0m     \u001b[0mtext\u001b[0m \u001b[1;33m=\u001b[0m \u001b[0mre\u001b[0m\u001b[1;33m.\u001b[0m\u001b[0msub\u001b[0m\u001b[1;33m(\u001b[0m\u001b[1;34m'[@#].*?\\s'\u001b[0m\u001b[1;33m,\u001b[0m \u001b[1;34m''\u001b[0m\u001b[1;33m,\u001b[0m\u001b[0mtext\u001b[0m\u001b[1;33m)\u001b[0m\u001b[1;33m\u001b[0m\u001b[1;33m\u001b[0m\u001b[0m\n",
      "\u001b[1;31mNameError\u001b[0m: name 'strip' is not defined"
     ]
    }
   ],
   "source": [
    "for t in textFile:\n",
    "    input(t)\n",
    "    #remove header\n",
    "    if t == \"id,date,text\\n\":\n",
    "        continue\n",
    "        \n",
    "    ID = int(t[0:19])\n",
    "    text = t[40:(t.rfind(' '))]\n",
    "    if text[0:2] == 'RT':\n",
    "        text = strip(text[2:])\n",
    "        \n",
    "    text = re.sub('[@#].*?\\s', '',text)\n",
    "    \n",
    "    input(text)\n"
   ]
  },
  {
   "cell_type": "code",
   "execution_count": null,
   "id": "322dabf3",
   "metadata": {},
   "outputs": [],
   "source": []
  }
 ],
 "metadata": {
  "kernelspec": {
   "display_name": "Python 3",
   "language": "python",
   "name": "python3"
  },
  "language_info": {
   "codemirror_mode": {
    "name": "ipython",
    "version": 3
   },
   "file_extension": ".py",
   "mimetype": "text/x-python",
   "name": "python",
   "nbconvert_exporter": "python",
   "pygments_lexer": "ipython3",
   "version": "3.8.8"
  }
 },
 "nbformat": 4,
 "nbformat_minor": 5
}
