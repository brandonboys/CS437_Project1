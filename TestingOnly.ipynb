{
 "cells": [
  {
   "cell_type": "code",
   "execution_count": 11,
   "id": "cfe0c443",
   "metadata": {
    "scrolled": false
   },
   "outputs": [
    {
     "name": "stderr",
     "output_type": "stream",
     "text": [
      "C:\\Users\\enoch\\Documents\\Grad School\\IR\\CS437_Project1\\QuerryToTopfive.py:57: RuntimeWarning: invalid value encountered in double_scalars\n",
      "  cosineRanks.append((rTDIDF * qTDIDF).sum() /(np.sqrt((rTDIDF**2).sum() * (qTDIDF**2).sum())))\n"
     ]
    },
    {
     "name": "stdout",
     "output_type": "stream",
     "text": [
      "\"I get called.... trump supporter\" white woman tears will never not be funny like if the worst thing anyones called u is a trump supporter and you're whining about it fuck off literally these people are 2 steps away from saying reverse racism is real\n",
      "\n",
      "Joe Biden is the candidate of rioters\",\" looters\",\" arsonists\",\" gun-grabbers\",\" flag-burners\",\" Marxists\",\" lobbyists\",\" and\n",
      "OMG: as Donald Trump speaks in Hickory\",\" North Carolina the structure holding up the American flag collapsed behind the\n",
      "Joe Biden is the candidate of rioters\",\" looters\",\" arsonists\",\" gun-grabbers\",\" flag-burners\",\" Marxists\",\" lobbyists\",\" and\n",
      "When China unleashes a virus onto the U.S and world killing millions and billions in economic damage the Democrats blame Trump.  Not China but Trump. Hmmm .......it makes you wonder which side the Democrats are on.\n",
      "\n"
     ]
    }
   ],
   "source": [
    "from QuerryToTopfive import COSINE_TD_IDF_Ranking \n",
    "out = COSINE_TD_IDF_Ranking(\"\")\n",
    "\n",
    "for tweet in out[1]:\n",
    "    print(tweet)"
   ]
  },
  {
   "cell_type": "code",
   "execution_count": 309,
   "id": "edaeabd9",
   "metadata": {},
   "outputs": [],
   "source": [
    "#### \n",
    "def COSINE_TD_IDF_RankingPre(dict):\n",
    "    \"\"\"\n",
    "    Calculating TD-IDF is calculating the importantce of a word compared to a recource\n",
    "    Varibles in equation\n",
    "        NT: Number of Tokens inside a single recource\n",
    "        NsT: number of Times the word appeared in a single recource\n",
    "        R: Number of recources hardcoded as 139799\n",
    "        RcD: Number of recources containing the word\n",
    "        \n",
    "        \n",
    "                \n",
    "    Input Example:\n",
    "    \n",
    "    TD_IDF90\n",
    "        \n",
    "    \"\"\"\n",
    "    cosineRanks = []\n",
    "    R = 139799\n",
    "    \n",
    "    \n",
    "    for qToken in dict:\n",
    "        rTDIDF = np.zeros(139799)\n",
    "        if qToken in df.columns:\n",
    "            print(qToken)\n",
    "            continue\n",
    "        RcD = len(dict[qToken])\n",
    "        for i in dict[qToken]:\n",
    "            NT = df.iloc[i][\"Length\"]\n",
    "            NsT = dict[qToken][i]\n",
    "\n",
    "            if NT == 0:\n",
    "                rTDIDF[i] = 0\n",
    "            else:\n",
    "                rTDIDF[i] = ((NsT/NT) * (R/RcD))\n",
    "\n",
    "                \n",
    "        rTDIDF = (rTDIDF *255).astype(np.uint8)\n",
    "        #print(rTDIDF)\n",
    "        #input('Stop')\n",
    "        df[qToken] = rTDIDF\n",
    "        \n",
    "\n",
    "\n",
    "        print(qToken)\n",
    "            \n"
   ]
  },
  {
   "cell_type": "code",
   "execution_count": 38,
   "id": "b8621969",
   "metadata": {},
   "outputs": [
    {
     "name": "stdout",
     "output_type": "stream",
     "text": [
      "{'fighting', 'dynamic', 'active', 'active_agent', 'active_voice', 'participating', 'combat-ready', 'alive'}\n"
     ]
    }
   ],
   "source": [
    "from nltk.corpus import wordnet\n",
    "synonyms = []\n",
    "\n",
    "for syn in wordnet.synsets(\"active\"):\n",
    "    for l in syn.lemmas():\n",
    "        synonyms.append(l.name())\n",
    "\n",
    "print(set(synonyms))\n"
   ]
  },
  {
   "cell_type": "code",
   "execution_count": 37,
   "id": "58338ffd",
   "metadata": {},
   "outputs": [
    {
     "name": "stdout",
     "output_type": "stream",
     "text": [
      "True\n"
     ]
    }
   ],
   "source": [
    "if tokenizerWithFilter('fighting')[0] in dict:\n",
    "    print(True)\n",
    "else:\n",
    "    print(False)"
   ]
  },
  {
   "cell_type": "code",
   "execution_count": 36,
   "id": "f01c1f36",
   "metadata": {},
   "outputs": [
    {
     "data": {
      "text/plain": [
       "['fight']"
      ]
     },
     "execution_count": 36,
     "metadata": {},
     "output_type": "execute_result"
    }
   ],
   "source": [
    "tokenizerWithFilter('fighting')[0]"
   ]
  },
  {
   "cell_type": "code",
   "execution_count": 60,
   "id": "b22467f2",
   "metadata": {},
   "outputs": [],
   "source": [
    "from TokenizeStemSWr import tokenizerWithFilter\n",
    "from nltk.corpus import wordnet\n",
    "import numpy as np\n",
    "dict = np.load('inverseIndexTable.npy',allow_pickle='TRUE').item()\n",
    "\n",
    "def querrySuggestor(query):\n",
    "    \"\"\"\n",
    "    The purpose of this function is to change find synonyms of querry terms so that all tokens in the query are located in the reverse index\n",
    "\n",
    "    Example Input:\n",
    "    #let assume \"extravagant\" is not in the inverse index but \"great\" is\n",
    "    query = Trumps extravagant policies are great\n",
    "    Examples Ouput:\n",
    "    query = Trump great policies are great\n",
    "    \"\"\"\n",
    "\n",
    "    #Check if every word exits in the dictionary\n",
    "    filiteredQuery = tokenizerWithFilter(query)#['hello', 'thi', 'exampl', 'queri']\n",
    "\n",
    "\n",
    "    for word in query.split():\n",
    "        input(word)\n",
    "        if len(tokenizerWithFilter(word)) == 0 or (tokenizerWithFilter(word)[0] in dict):\n",
    "            #good\n",
    "            pass\n",
    "        else:\n",
    "            #find synoyms\n",
    "            synonyms = []\n",
    "\n",
    "            #create an array of synonyms\n",
    "            for syn in wordnet.synsets(word):\n",
    "                for l in syn.lemmas():\n",
    "                    synonyms.append(l.name())\n",
    "                    \n",
    "            if len(synonyms) == 0:\n",
    "                #no suggestions exist\n",
    "                continue #on to next word\n",
    "            #check if any synonym exits in index\n",
    "            for possibleWord in synonyms:\n",
    "                input(possibleWord)\n",
    "                        \n",
    "                if tokenizerWithFilter(possibleWord)[0] in dict:\n",
    "                    query = query.replace(word,possibleWord,1)\n",
    "                    break# looking for synonyms and go to the nextword\n",
    "                    \n",
    "    return query\n"
   ]
  },
  {
   "cell_type": "code",
   "execution_count": 59,
   "id": "3f5553af",
   "metadata": {},
   "outputs": [
    {
     "name": "stdout",
     "output_type": "stream",
     "text": [
      "Hello\n",
      "My\n",
      "Name\n",
      "is\n",
      "Enoch\n",
      "it\n",
      "is\n",
      "a\n",
      "jazzy\n",
      "jazzy\n",
      "flashy\n",
      "name\n"
     ]
    },
    {
     "data": {
      "text/plain": [
       "'Hello My Name is Enoch it is a flashy name'"
      ]
     },
     "execution_count": 59,
     "metadata": {},
     "output_type": "execute_result"
    }
   ],
   "source": [
    "querrySuggestor(\"Hello My Name is Enoch it is a jazzy name\")"
   ]
  },
  {
   "cell_type": "code",
   "execution_count": 42,
   "id": "acd9db83",
   "metadata": {},
   "outputs": [
    {
     "data": {
      "text/plain": [
       "0"
      ]
     },
     "execution_count": 42,
     "metadata": {},
     "output_type": "execute_result"
    }
   ],
   "source": [
    "len(tokenizerWithFilter(\"is\"))"
   ]
  },
  {
   "cell_type": "code",
   "execution_count": 22,
   "id": "bf96bc93",
   "metadata": {},
   "outputs": [
    {
     "data": {
      "text/plain": [
       "['Hello', 'My', 'Name', 'is', 'Enoch']"
      ]
     },
     "execution_count": 22,
     "metadata": {},
     "output_type": "execute_result"
    }
   ],
   "source": [
    "\"Hello My Name is Enoch\".split()"
   ]
  },
  {
   "cell_type": "code",
   "execution_count": 56,
   "id": "72303e72",
   "metadata": {},
   "outputs": [
    {
     "data": {
      "text/plain": [
       "True"
      ]
     },
     "execution_count": 56,
     "metadata": {},
     "output_type": "execute_result"
    }
   ],
   "source": [
    "(tokenizerWithFilter('flashy')[0] in dict)"
   ]
  },
  {
   "cell_type": "code",
   "execution_count": 37,
   "id": "d991ba4d",
   "metadata": {},
   "outputs": [],
   "source": [
    "dict = np.load('inverseIndexTable.npy',allow_pickle='TRUE').item()"
   ]
  },
  {
   "cell_type": "code",
   "execution_count": 36,
   "id": "9303f4c5",
   "metadata": {},
   "outputs": [],
   "source": [
    "import numpy as np"
   ]
  },
  {
   "cell_type": "code",
   "execution_count": 55,
   "id": "4a93f713",
   "metadata": {},
   "outputs": [
    {
     "data": {
      "text/plain": [
       "[Synset('jazzy.s.01'), Synset('flashy.s.02')]"
      ]
     },
     "execution_count": 55,
     "metadata": {},
     "output_type": "execute_result"
    }
   ],
   "source": [
    "wordnet.synsets('Jazzy')"
   ]
  },
  {
   "cell_type": "code",
   "execution_count": 74,
   "id": "9982213c",
   "metadata": {},
   "outputs": [
    {
     "name": "stdout",
     "output_type": "stream",
     "text": [
      "0\n",
      "invalid\n",
      "3\n",
      "invalid\n",
      "2\n"
     ]
    }
   ],
   "source": [
    "qnum = input()\n",
    "i = 3\n",
    "while qnum.isnumeric() == False or (int(qnum) <=0 or int(qnum) >= i):\n",
    "    qnum = input(\"invalid\\n\")"
   ]
  },
  {
   "cell_type": "code",
   "execution_count": 78,
   "id": "332a768e",
   "metadata": {},
   "outputs": [
    {
     "data": {
      "text/plain": [
       "'flashi'"
      ]
     },
     "execution_count": 78,
     "metadata": {},
     "output_type": "execute_result"
    }
   ],
   "source": [
    "tokenizerWithFilter('flashy')[0]"
   ]
  },
  {
   "cell_type": "code",
   "execution_count": 66,
   "id": "0f5a63da",
   "metadata": {},
   "outputs": [
    {
     "data": {
      "text/plain": [
       "False"
      ]
     },
     "execution_count": 66,
     "metadata": {},
     "output_type": "execute_result"
    }
   ],
   "source": [
    "int(qnum) < i"
   ]
  },
  {
   "cell_type": "code",
   "execution_count": 82,
   "id": "bbb1202d",
   "metadata": {},
   "outputs": [],
   "source": [
    "df=pd.read_pickle('tweetsTable.pickle')"
   ]
  },
  {
   "cell_type": "code",
   "execution_count": 87,
   "id": "2136192b",
   "metadata": {},
   "outputs": [
    {
     "data": {
      "text/plain": [
       "\"Rudy is just another flashy diversion from...what is donny doin? Like putting up bids for oil drilling in Alaska NOW. Oil companies would be fools because Biden will put a stop to this and they'll lose a ton of cash.Diane RN\\n\""
      ]
     },
     "execution_count": 87,
     "metadata": {},
     "output_type": "execute_result"
    }
   ],
   "source": [
    "df.iloc[131339].tweets"
   ]
  },
  {
   "cell_type": "code",
   "execution_count": 93,
   "id": "2a50addf",
   "metadata": {},
   "outputs": [
    {
     "data": {
      "text/html": [
       "<div>\n",
       "<style scoped>\n",
       "    .dataframe tbody tr th:only-of-type {\n",
       "        vertical-align: middle;\n",
       "    }\n",
       "\n",
       "    .dataframe tbody tr th {\n",
       "        vertical-align: top;\n",
       "    }\n",
       "\n",
       "    .dataframe thead th {\n",
       "        text-align: right;\n",
       "    }\n",
       "</style>\n",
       "<table border=\"1\" class=\"dataframe\">\n",
       "  <thead>\n",
       "    <tr style=\"text-align: right;\">\n",
       "      <th></th>\n",
       "      <th>ID</th>\n",
       "      <th>tweets</th>\n",
       "      <th>Tokens</th>\n",
       "      <th>TD_IDF</th>\n",
       "      <th>Length</th>\n",
       "    </tr>\n",
       "  </thead>\n",
       "  <tbody>\n",
       "    <tr>\n",
       "      <th>92297</th>\n",
       "      <td>1326134155462238212</td>\n",
       "      <td>Thats the normal process. Gracefully accepting...</td>\n",
       "      <td>[that, normal, process, grace, accept, defeat,...</td>\n",
       "      <td>0.0</td>\n",
       "      <td>28</td>\n",
       "    </tr>\n",
       "  </tbody>\n",
       "</table>\n",
       "</div>"
      ],
      "text/plain": [
       "                        ID                                             tweets  \\\n",
       "92297  1326134155462238212  Thats the normal process. Gracefully accepting...   \n",
       "\n",
       "                                                  Tokens  TD_IDF Length  \n",
       "92297  [that, normal, process, grace, accept, defeat,...     0.0     28  "
      ]
     },
     "execution_count": 93,
     "metadata": {},
     "output_type": "execute_result"
    }
   ],
   "source": [
    "df[df.ID==1326134155462238212]"
   ]
  },
  {
   "cell_type": "code",
   "execution_count": 97,
   "id": "2312238d",
   "metadata": {},
   "outputs": [
    {
     "data": {
      "text/plain": [
       "3"
      ]
     },
     "execution_count": 97,
     "metadata": {},
     "output_type": "execute_result"
    }
   ],
   "source": [
    "len(dict['flashi'])"
   ]
  },
  {
   "cell_type": "code",
   "execution_count": null,
   "id": "6ce38d8a",
   "metadata": {},
   "outputs": [],
   "source": [
    "df = pd.read_pickle('tweetsTable.pickle')"
   ]
  },
  {
   "cell_type": "code",
   "execution_count": 116,
   "id": "b9b1da84",
   "metadata": {},
   "outputs": [],
   "source": [
    "import numpy as np\n",
    "import pandas as pd\n",
    "from TokenizeStemSWr import tokenizerWithFilter\n",
    "from ReveseIndexCreator import creatInverseDict\n",
    "def COSINE_TD_IDF_Ranking(query):\n",
    "    \"\"\"\n",
    "    Calculating TD-IDF is calculating the importantce of a word compared to a recource    \n",
    "    Input Example:\n",
    "    COSINE_TD_IDF_Ranking(\"I like Biden\")\n",
    "    \n",
    "    OutPut: (format array with tuples)    \n",
    "    [[1324365009359654914,'I meant if you bet the odds exactly (I.e\",\" if Biden has a 69% chance to win X then you bet 69 dollars on a Biden win and 31 dollars on a Biden loss). Place enough bets like that and you should break even\",\" or nearly so\",\" in a good model\\n']\n",
    "     [1324556160570171392,'Right. That\\'s why I ask\",\" because we\\'re more likely to see GA and its 16 electoral votes flip to Biden tonight rather than NV or PA. So I\\'m curious if the Biden campaign is counting AZ in the win column or not\",\" because if they are\",\" GA in the Biden column would give him the win.\\n']\n",
    "     [1323973402294628354,\"I'm not in the US and extremely anxious about Biden winning. It will be devastating. I dont think people realise how terrible a biden administration will be for US and world. Not liking trumps personality is not a good enough reason to vote for Biden. Gonna be a rough 4 years.\\n\"]\n",
    "     [1323451721054564352,'I really like Pete Buttigieg. I do hope Biden pulls him into the team! He has been essential to Bidens campaign efforts and should serve in some capacity for his relentless efforts to put Biden back into the White House.#BidenHarris2020']\n",
    "     [1323844576344449024,'I mean\",\" \"I don\\'t like Biden\"\",\" fine. \"Biden isn\\'t trustworthy\",\"\" fine. \"Biden seems ugly?\". Rude\",\" but fine. \"Biden is a pinemarten.\" Problem. He is not a pinemarten. And nor is HE A FUCKING SOCIALIST.\\n']]\n",
    "        \n",
    "    \"\"\"\n",
    "    dict = {}\n",
    "    try:\n",
    "        dict = np.load('inverseIndexTable.npy',allow_pickle='TRUE').item()\n",
    "    except:\n",
    "        print('Unable To find inverse Index... We will create one, but it will take extra time')\n",
    "        creatInverseDict()\n",
    "        dict = np.load('inverseIndexTable.npy',allow_pickle='TRUE').item()\n",
    "        print('Done creating reverse index')\n",
    "\n",
    "\n",
    "    \n",
    "\n",
    "    \n",
    "    #necessary values of calcualting TD-IDF of qerry\n",
    "    queryTokens = tokenizerWithFilter(query)\n",
    "    qLen = len(queryTokens)\n",
    "    qdf=pd.DataFrame(queryTokens,columns=['Words'])\n",
    "    qdf['Count'] = 1.0\n",
    "    qdf = qdf.groupby('Words').count()\n",
    "    \n",
    "    \n",
    "    R = 139799\n",
    "    cosineRanks = []\n",
    "    \n",
    "    \n",
    "    for resourceID, tweet in df.iterrows():\n",
    "        NT = tweet.Length\n",
    "        if NT == 0:\n",
    "            cosineRanks.append(np.NaN)\n",
    "            continue\n",
    "            \n",
    "        rTDIDF = np.empty(0)\n",
    "        qTDIDF = np.empty(0)\n",
    "        for qToken, queryFreq in qdf.iterrows():\n",
    "\n",
    "            \n",
    "            if qToken in dict:\n",
    "                qTDIDF = np.append(qTDIDF,queryFreq.Count / qLen)\n",
    "                \n",
    "                RcD = len(dict[qToken])\n",
    "                \n",
    "                NsT = 0\n",
    "                if resourceID in dict[qToken]:\n",
    "                    NsT = dict[qToken][resourceID]\n",
    "                    \n",
    "                rTDIDF = np.append(rTDIDF,((NsT/NT) * (R/RcD)))\n",
    "  \n",
    "        cosineRanks.append((rTDIDF * qTDIDF).sum() /(np.sqrt((rTDIDF**2).sum()) * np.sqrt((qTDIDF**2).sum())))\n",
    "\n",
    "    df.TD_IDF = cosineRanks\n",
    "    tweetID = df.sort_values('TD_IDF',ascending=False).head(5).ID.values\n",
    "    Tweets =df.sort_values('TD_IDF',ascending=False).head(5).tweets.values\n",
    "    return (tweetID,Tweets)"
   ]
  },
  {
   "cell_type": "code",
   "execution_count": null,
   "id": "3941e37b",
   "metadata": {
    "scrolled": true
   },
   "outputs": [
    {
     "name": "stderr",
     "output_type": "stream",
     "text": [
      "<ipython-input-116-4c7421f9fb3c>:66: RuntimeWarning: invalid value encountered in double_scalars\n",
      "  cosineRanks.append((rTDIDF * qTDIDF).sum() /(np.sqrt((rTDIDF**2).sum()) * np.sqrt((qTDIDF**2).sum())))\n"
     ]
    }
   ],
   "source": [
    "COSINE_TD_IDF_Ranking('Russia is Flashy and a great country')"
   ]
  },
  {
   "cell_type": "code",
   "execution_count": null,
   "id": "ef754476",
   "metadata": {},
   "outputs": [],
   "source": [
    "df.sort_values('TD_IDF').head(50).tail(50)"
   ]
  },
  {
   "cell_type": "code",
   "execution_count": 79,
   "id": "dee1e506",
   "metadata": {},
   "outputs": [
    {
     "data": {
      "text/plain": [
       "{6390: 1, 7230: 1, 131339: 1}"
      ]
     },
     "execution_count": 79,
     "metadata": {},
     "output_type": "execute_result"
    }
   ],
   "source": [
    "dict['flashi']"
   ]
  },
  {
   "cell_type": "code",
   "execution_count": null,
   "id": "9909f70b",
   "metadata": {},
   "outputs": [],
   "source": []
  }
 ],
 "metadata": {
  "kernelspec": {
   "display_name": "Python 3",
   "language": "python",
   "name": "python3"
  },
  "language_info": {
   "codemirror_mode": {
    "name": "ipython",
    "version": 3
   },
   "file_extension": ".py",
   "mimetype": "text/x-python",
   "name": "python",
   "nbconvert_exporter": "python",
   "pygments_lexer": "ipython3",
   "version": "3.8.8"
  }
 },
 "nbformat": 4,
 "nbformat_minor": 5
}
