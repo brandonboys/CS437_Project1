{
 "cells": [
  {
   "cell_type": "code",
   "execution_count": 11,
   "id": "dbea8240",
   "metadata": {
    "scrolled": false
   },
   "outputs": [
    {
     "name": "stderr",
     "output_type": "stream",
     "text": [
      "C:\\Users\\enoch\\Documents\\Grad School\\IR\\CS437_Project1\\QuerryToTopfive.py:57: RuntimeWarning: invalid value encountered in double_scalars\n",
      "  cosineRanks.append((rTDIDF * qTDIDF).sum() /(np.sqrt((rTDIDF**2).sum() * (qTDIDF**2).sum())))\n"
     ]
    },
    {
     "name": "stdout",
     "output_type": "stream",
     "text": [
      "\"I get called.... trump supporter\" white woman tears will never not be funny like if the worst thing anyones called u is a trump supporter and you're whining about it fuck off literally these people are 2 steps away from saying reverse racism is real\n",
      "\n",
      "Joe Biden is the candidate of rioters\",\" looters\",\" arsonists\",\" gun-grabbers\",\" flag-burners\",\" Marxists\",\" lobbyists\",\" and\n",
      "OMG: as Donald Trump speaks in Hickory\",\" North Carolina the structure holding up the American flag collapsed behind the\n",
      "Joe Biden is the candidate of rioters\",\" looters\",\" arsonists\",\" gun-grabbers\",\" flag-burners\",\" Marxists\",\" lobbyists\",\" and\n",
      "When China unleashes a virus onto the U.S and world killing millions and billions in economic damage the Democrats blame Trump.  Not China but Trump. Hmmm .......it makes you wonder which side the Democrats are on.\n",
      "\n"
     ]
    }
   ],
   "source": [
    "from QuerryToTopfive import COSINE_TD_IDF_Ranking \n",
    "out = COSINE_TD_IDF_Ranking(\"\")\n",
    "\n",
    "for tweet in out[1]:\n",
    "    print(tweet)"
   ]
  },
  {
   "cell_type": "code",
   "execution_count": 309,
   "id": "5c4b1fa4",
   "metadata": {},
   "outputs": [],
   "source": [
    "#### \n",
    "def COSINE_TD_IDF_RankingPre(dict):\n",
    "    \"\"\"\n",
    "    Calculating TD-IDF is calculating the importantce of a word compared to a recource\n",
    "    Varibles in equation\n",
    "        NT: Number of Tokens inside a single recource\n",
    "        NsT: number of Times the word appeared in a single recource\n",
    "        R: Number of recources hardcoded as 139799\n",
    "        RcD: Number of recources containing the word\n",
    "        \n",
    "        \n",
    "                \n",
    "    Input Example:\n",
    "    \n",
    "    TD_IDF90\n",
    "        \n",
    "    \"\"\"\n",
    "    cosineRanks = []\n",
    "    R = 139799\n",
    "    \n",
    "    \n",
    "    for qToken in dict:\n",
    "        rTDIDF = np.zeros(139799)\n",
    "        if qToken in df.columns:\n",
    "            print(qToken)\n",
    "            continue\n",
    "        RcD = len(dict[qToken])\n",
    "        for i in dict[qToken]:\n",
    "            NT = df.iloc[i][\"Length\"]\n",
    "            NsT = dict[qToken][i]\n",
    "\n",
    "            if NT == 0:\n",
    "                rTDIDF[i] = 0\n",
    "            else:\n",
    "                rTDIDF[i] = ((NsT/NT) * (R/RcD))\n",
    "\n",
    "                \n",
    "        rTDIDF = (rTDIDF *255).astype(np.uint8)\n",
    "        #print(rTDIDF)\n",
    "        #input('Stop')\n",
    "        df[qToken] = rTDIDF\n",
    "        \n",
    "\n",
    "\n",
    "        print(qToken)\n",
    "            \n"
   ]
  },
  {
   "cell_type": "code",
   "execution_count": 38,
   "id": "45bec452",
   "metadata": {},
   "outputs": [
    {
     "name": "stdout",
     "output_type": "stream",
     "text": [
      "{'fighting', 'dynamic', 'active', 'active_agent', 'active_voice', 'participating', 'combat-ready', 'alive'}\n"
     ]
    }
   ],
   "source": [
    "from nltk.corpus import wordnet\n",
    "synonyms = []\n",
    "\n",
    "for syn in wordnet.synsets(\"active\"):\n",
    "    for l in syn.lemmas():\n",
    "        synonyms.append(l.name())\n",
    "\n",
    "print(set(synonyms))\n"
   ]
  },
  {
   "cell_type": "code",
   "execution_count": 37,
   "id": "526fee6b",
   "metadata": {},
   "outputs": [
    {
     "name": "stdout",
     "output_type": "stream",
     "text": [
      "True\n"
     ]
    }
   ],
   "source": [
    "if tokenizerWithFilter('fighting')[0] in dict:\n",
    "    print(True)\n",
    "else:\n",
    "    print(False)"
   ]
  },
  {
   "cell_type": "code",
   "execution_count": 36,
   "id": "daaf9ab8",
   "metadata": {},
   "outputs": [
    {
     "data": {
      "text/plain": [
       "['fight']"
      ]
     },
     "execution_count": 36,
     "metadata": {},
     "output_type": "execute_result"
    }
   ],
   "source": [
    "tokenizerWithFilter('fighting')[0]"
   ]
  },
  {
   "cell_type": "code",
   "execution_count": 60,
   "id": "667e5721",
   "metadata": {},
   "outputs": [],
   "source": [
    "from TokenizeStemSWr import tokenizerWithFilter\n",
    "from nltk.corpus import wordnet\n",
    "import numpy as np\n",
    "dict = np.load('inverseIndexTable.npy',allow_pickle='TRUE').item()\n",
    "\n",
    "def querrySuggestor(query):\n",
    "    \"\"\"\n",
    "    The purpose of this function is to change find synonyms of querry terms so that all tokens in the query are located in the reverse index\n",
    "\n",
    "    Example Input:\n",
    "    #let assume \"extravagant\" is not in the inverse index but \"great\" is\n",
    "    query = Trumps extravagant policies are great\n",
    "    Examples Ouput:\n",
    "    query = Trump great policies are great\n",
    "    \"\"\"\n",
    "\n",
    "    #Check if every word exits in the dictionary\n",
    "    filiteredQuery = tokenizerWithFilter(query)#['hello', 'thi', 'exampl', 'queri']\n",
    "\n",
    "\n",
    "    for word in query.split():\n",
    "        input(word)\n",
    "        if len(tokenizerWithFilter(word)) == 0 or (tokenizerWithFilter(word)[0] in dict):\n",
    "            #good\n",
    "            pass\n",
    "        else:\n",
    "            #find synoyms\n",
    "            synonyms = []\n",
    "\n",
    "            #create an array of synonyms\n",
    "            for syn in wordnet.synsets(word):\n",
    "                for l in syn.lemmas():\n",
    "                    synonyms.append(l.name())\n",
    "                    \n",
    "            if len(synonyms) == 0:\n",
    "                #no suggestions exist\n",
    "                continue #on to next word\n",
    "            #check if any synonym exits in index\n",
    "            for possibleWord in synonyms:\n",
    "                input(possibleWord)\n",
    "                        \n",
    "                if tokenizerWithFilter(possibleWord)[0] in dict:\n",
    "                    query = query.replace(word,possibleWord,1)\n",
    "                    break# looking for synonyms and go to the nextword\n",
    "                    \n",
    "    return query\n"
   ]
  },
  {
   "cell_type": "code",
   "execution_count": 59,
   "id": "dc10b5b1",
   "metadata": {},
   "outputs": [
    {
     "name": "stdout",
     "output_type": "stream",
     "text": [
      "Hello\n",
      "My\n",
      "Name\n",
      "is\n",
      "Enoch\n",
      "it\n",
      "is\n",
      "a\n",
      "jazzy\n",
      "jazzy\n",
      "flashy\n",
      "name\n"
     ]
    },
    {
     "data": {
      "text/plain": [
       "'Hello My Name is Enoch it is a flashy name'"
      ]
     },
     "execution_count": 59,
     "metadata": {},
     "output_type": "execute_result"
    }
   ],
   "source": [
    "querrySuggestor(\"Hello My Name is Enoch it is a jazzy name\")"
   ]
  },
  {
   "cell_type": "code",
   "execution_count": 42,
   "id": "f1450c09",
   "metadata": {},
   "outputs": [
    {
     "data": {
      "text/plain": [
       "0"
      ]
     },
     "execution_count": 42,
     "metadata": {},
     "output_type": "execute_result"
    }
   ],
   "source": [
    "len(tokenizerWithFilter(\"is\"))"
   ]
  },
  {
   "cell_type": "code",
   "execution_count": 22,
   "id": "9e6a4e4a",
   "metadata": {},
   "outputs": [
    {
     "data": {
      "text/plain": [
       "['Hello', 'My', 'Name', 'is', 'Enoch']"
      ]
     },
     "execution_count": 22,
     "metadata": {},
     "output_type": "execute_result"
    }
   ],
   "source": [
    "\"Hello My Name is Enoch\".split()"
   ]
  },
  {
   "cell_type": "code",
   "execution_count": 56,
   "id": "24519e63",
   "metadata": {},
   "outputs": [
    {
     "data": {
      "text/plain": [
       "True"
      ]
     },
     "execution_count": 56,
     "metadata": {},
     "output_type": "execute_result"
    }
   ],
   "source": [
    "(tokenizerWithFilter('flashy')[0] in dict)"
   ]
  },
  {
   "cell_type": "code",
   "execution_count": 37,
   "id": "64678b35",
   "metadata": {},
   "outputs": [],
   "source": [
    "dict = np.load('inverseIndexTable.npy',allow_pickle='TRUE').item()"
   ]
  },
  {
   "cell_type": "code",
   "execution_count": 36,
   "id": "1f69d726",
   "metadata": {},
   "outputs": [],
   "source": [
    "import numpy as np"
   ]
  },
  {
   "cell_type": "code",
   "execution_count": 55,
   "id": "90afff8d",
   "metadata": {},
   "outputs": [
    {
     "data": {
      "text/plain": [
       "[Synset('jazzy.s.01'), Synset('flashy.s.02')]"
      ]
     },
     "execution_count": 55,
     "metadata": {},
     "output_type": "execute_result"
    }
   ],
   "source": [
    "wordnet.synsets('Jazzy')"
   ]
  },
  {
   "cell_type": "code",
   "execution_count": 74,
   "id": "06dd9266",
   "metadata": {},
   "outputs": [
    {
     "name": "stdout",
     "output_type": "stream",
     "text": [
      "0\n",
      "invalid\n",
      "3\n",
      "invalid\n",
      "2\n"
     ]
    }
   ],
   "source": [
    "qnum = input()\n",
    "i = 3\n",
    "while qnum.isnumeric() == False or (int(qnum) <=0 or int(qnum) >= i):\n",
    "    qnum = input(\"invalid\\n\")"
   ]
  },
  {
   "cell_type": "code",
   "execution_count": 66,
   "id": "c54ca69e",
   "metadata": {},
   "outputs": [
    {
     "data": {
      "text/plain": [
       "False"
      ]
     },
     "execution_count": 66,
     "metadata": {},
     "output_type": "execute_result"
    }
   ],
   "source": [
    "int(qnum) < i"
   ]
  },
  {
   "cell_type": "code",
   "execution_count": null,
   "id": "c526f08a",
   "metadata": {},
   "outputs": [],
   "source": []
  }
 ],
 "metadata": {
  "kernelspec": {
   "display_name": "Python 3",
   "language": "python",
   "name": "python3"
  },
  "language_info": {
   "codemirror_mode": {
    "name": "ipython",
    "version": 3
   },
   "file_extension": ".py",
   "mimetype": "text/x-python",
   "name": "python",
   "nbconvert_exporter": "python",
   "pygments_lexer": "ipython3",
   "version": "3.8.8"
  }
 },
 "nbformat": 4,
 "nbformat_minor": 5
}
