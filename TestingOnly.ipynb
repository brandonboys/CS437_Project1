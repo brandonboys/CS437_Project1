{
 "cells": [
  {
   "cell_type": "code",
   "execution_count": 11,
   "id": "8377de7b",
   "metadata": {
    "scrolled": false
   },
   "outputs": [
    {
     "name": "stderr",
     "output_type": "stream",
     "text": [
      "C:\\Users\\enoch\\Documents\\Grad School\\IR\\CS437_Project1\\QuerryToTopfive.py:57: RuntimeWarning: invalid value encountered in double_scalars\n",
      "  cosineRanks.append((rTDIDF * qTDIDF).sum() /(np.sqrt((rTDIDF**2).sum() * (qTDIDF**2).sum())))\n"
     ]
    },
    {
     "name": "stdout",
     "output_type": "stream",
     "text": [
      "\"I get called.... trump supporter\" white woman tears will never not be funny like if the worst thing anyones called u is a trump supporter and you're whining about it fuck off literally these people are 2 steps away from saying reverse racism is real\n",
      "\n",
      "Joe Biden is the candidate of rioters\",\" looters\",\" arsonists\",\" gun-grabbers\",\" flag-burners\",\" Marxists\",\" lobbyists\",\" and\n",
      "OMG: as Donald Trump speaks in Hickory\",\" North Carolina the structure holding up the American flag collapsed behind the\n",
      "Joe Biden is the candidate of rioters\",\" looters\",\" arsonists\",\" gun-grabbers\",\" flag-burners\",\" Marxists\",\" lobbyists\",\" and\n",
      "When China unleashes a virus onto the U.S and world killing millions and billions in economic damage the Democrats blame Trump.  Not China but Trump. Hmmm .......it makes you wonder which side the Democrats are on.\n",
      "\n"
     ]
    }
   ],
   "source": [
    "from QuerryToTopfive import COSINE_TD_IDF_Ranking \n",
    "out = COSINE_TD_IDF_Ranking(\"\")\n",
    "\n",
    "for tweet in out[1]:\n",
    "    print(tweet)"
   ]
  },
  {
   "cell_type": "code",
   "execution_count": 309,
   "id": "ed47fea6",
   "metadata": {},
   "outputs": [],
   "source": [
    "#### \n",
    "def COSINE_TD_IDF_RankingPre(dict):\n",
    "    \"\"\"\n",
    "    Calculating TD-IDF is calculating the importantce of a word compared to a recource\n",
    "    Varibles in equation\n",
    "        NT: Number of Tokens inside a single recource\n",
    "        NsT: number of Times the word appeared in a single recource\n",
    "        R: Number of recources hardcoded as 139799\n",
    "        RcD: Number of recources containing the word\n",
    "        \n",
    "        \n",
    "                \n",
    "    Input Example:\n",
    "    \n",
    "    TD_IDF90\n",
    "        \n",
    "    \"\"\"\n",
    "    cosineRanks = []\n",
    "    R = 139799\n",
    "    \n",
    "    \n",
    "    for qToken in dict:\n",
    "        rTDIDF = np.zeros(139799)\n",
    "        if qToken in df.columns:\n",
    "            print(qToken)\n",
    "            continue\n",
    "        RcD = len(dict[qToken])\n",
    "        for i in dict[qToken]:\n",
    "            NT = df.iloc[i][\"Length\"]\n",
    "            NsT = dict[qToken][i]\n",
    "\n",
    "            if NT == 0:\n",
    "                rTDIDF[i] = 0\n",
    "            else:\n",
    "                rTDIDF[i] = ((NsT/NT) * (R/RcD))\n",
    "\n",
    "                \n",
    "        rTDIDF = (rTDIDF *255).astype(np.uint8)\n",
    "        #print(rTDIDF)\n",
    "        #input('Stop')\n",
    "        df[qToken] = rTDIDF\n",
    "        \n",
    "\n",
    "\n",
    "        print(qToken)\n",
    "            \n"
   ]
  },
  {
   "cell_type": "code",
   "execution_count": 38,
   "id": "4e2e8164",
   "metadata": {},
   "outputs": [
    {
     "name": "stdout",
     "output_type": "stream",
     "text": [
      "{'fighting', 'dynamic', 'active', 'active_agent', 'active_voice', 'participating', 'combat-ready', 'alive'}\n"
     ]
    }
   ],
   "source": [
    "from nltk.corpus import wordnet\n",
    "synonyms = []\n",
    "\n",
    "for syn in wordnet.synsets(\"active\"):\n",
    "    for l in syn.lemmas():\n",
    "        synonyms.append(l.name())\n",
    "\n",
    "print(set(synonyms))\n"
   ]
  },
  {
   "cell_type": "code",
   "execution_count": 37,
   "id": "268cba1c",
   "metadata": {},
   "outputs": [
    {
     "name": "stdout",
     "output_type": "stream",
     "text": [
      "True\n"
     ]
    }
   ],
   "source": [
    "if tokenizerWithFilter('fighting')[0] in dict:\n",
    "    print(True)\n",
    "else:\n",
    "    print(False)"
   ]
  },
  {
   "cell_type": "code",
   "execution_count": 36,
   "id": "c322988f",
   "metadata": {},
   "outputs": [
    {
     "data": {
      "text/plain": [
       "['fight']"
      ]
     },
     "execution_count": 36,
     "metadata": {},
     "output_type": "execute_result"
    }
   ],
   "source": [
    "tokenizerWithFilter('fighting')[0]"
   ]
  },
  {
   "cell_type": "code",
   "execution_count": null,
   "id": "f6e16f89",
   "metadata": {},
   "outputs": [],
   "source": []
  }
 ],
 "metadata": {
  "kernelspec": {
   "display_name": "Python 3",
   "language": "python",
   "name": "python3"
  },
  "language_info": {
   "codemirror_mode": {
    "name": "ipython",
    "version": 3
   },
   "file_extension": ".py",
   "mimetype": "text/x-python",
   "name": "python",
   "nbconvert_exporter": "python",
   "pygments_lexer": "ipython3",
   "version": "3.8.8"
  }
 },
 "nbformat": 4,
 "nbformat_minor": 5
}
