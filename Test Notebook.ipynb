{
 "cells": [
  {
   "cell_type": "code",
   "execution_count": 1,
   "id": "37f38193",
   "metadata": {},
   "outputs": [],
   "source": [
    "import pandas as pd\n",
    "from nltk.corpus import stopwords\n",
    "from nltk.tokenize import RegexpTokenizer\n",
    "from nltk.stem import PorterStemmer\n",
    "import numpy as np"
   ]
  },
  {
   "cell_type": "code",
   "execution_count": 11,
   "id": "887643a8",
   "metadata": {},
   "outputs": [],
   "source": [
    "ps = PorterStemmer()\n",
    "tokenizer = RegexpTokenizer(r'\\w+')\n",
    "stop_words = set(stopwords.words('english'))\n",
    "\n",
    "def tokenizerWithFilter(newText):\n",
    "    \"\"\"\n",
    "    This Function will tokenize and apply filters to an entire sentance... \n",
    "    return a list of words\n",
    "    \"\"\"\n",
    "    ## split words and remove punctuation\n",
    "    tokens = tokenizer.tokenize(newText)\n",
    "    \n",
    "    filtered_sentence = []\n",
    "    for w in tokens:\n",
    "        \n",
    "        ## remove stop words\n",
    "        if w not in stop_words:\n",
    "\n",
    "            #to Lowercase\n",
    "            w = w.lower()\n",
    "\n",
    "            ##lemantize\n",
    "            w = ps.stem(w)\n",
    "            filtered_sentence.append(w)\n",
    "    return filtered_sentence\n",
    "    "
   ]
  }
 ],
 "metadata": {
  "kernelspec": {
   "display_name": "Python 3",
   "language": "python",
   "name": "python3"
  },
  "language_info": {
   "codemirror_mode": {
    "name": "ipython",
    "version": 3
   },
   "file_extension": ".py",
   "mimetype": "text/x-python",
   "name": "python",
   "nbconvert_exporter": "python",
   "pygments_lexer": "ipython3",
   "version": "3.8.8"
  }
 },
 "nbformat": 4,
 "nbformat_minor": 5
}
